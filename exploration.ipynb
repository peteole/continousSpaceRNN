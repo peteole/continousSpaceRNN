{
 "cells": [
  {
   "cell_type": "code",
   "execution_count": 1,
   "metadata": {},
   "outputs": [
    {
     "name": "stderr",
     "output_type": "stream",
     "text": [
      "2022-09-30 18:45:26.468387: I tensorflow/core/platform/cpu_feature_guard.cc:193] This TensorFlow binary is optimized with oneAPI Deep Neural Network Library (oneDNN) to use the following CPU instructions in performance-critical operations:  AVX2 FMA\n",
      "To enable them in other operations, rebuild TensorFlow with the appropriate compiler flags.\n",
      "2022-09-30 18:45:26.601046: E tensorflow/stream_executor/cuda/cuda_blas.cc:2981] Unable to register cuBLAS factory: Attempting to register factory for plugin cuBLAS when one has already been registered\n",
      "2022-09-30 18:45:27.250694: W tensorflow/stream_executor/platform/default/dso_loader.cc:64] Could not load dynamic library 'libnvinfer.so.7'; dlerror: libnvinfer.so.7: cannot open shared object file: No such file or directory\n",
      "2022-09-30 18:45:27.250740: W tensorflow/stream_executor/platform/default/dso_loader.cc:64] Could not load dynamic library 'libnvinfer_plugin.so.7'; dlerror: libnvinfer_plugin.so.7: cannot open shared object file: No such file or directory\n",
      "2022-09-30 18:45:27.250746: W tensorflow/compiler/tf2tensorrt/utils/py_utils.cc:38] TF-TRT Warning: Cannot dlopen some TensorRT libraries. If you would like to use Nvidia GPU with TensorRT, please make sure the missing libraries mentioned above are installed properly.\n",
      "/home/olep/.local/lib/python3.10/site-packages/requests/__init__.py:109: RequestsDependencyWarning: urllib3 (1.26.9) or chardet (5.0.0)/charset_normalizer (2.0.12) doesn't match a supported version!\n",
      "  warnings.warn(\n",
      "/home/olep/.local/lib/python3.10/site-packages/tensorflow_addons/utils/ensure_tf_install.py:53: UserWarning: Tensorflow Addons supports using Python ops for all Tensorflow versions above or equal to 2.7.0 and strictly below 2.10.0 (nightly versions are not supported). \n",
      " The versions of TensorFlow you are currently using is 2.10.0 and is not supported. \n",
      "Some things might work, some things might not.\n",
      "If you were to encounter a bug, do not file an issue.\n",
      "If you want to make sure you're using a tested and supported configuration, either change the TensorFlow version or the TensorFlow Addons's version. \n",
      "You can find the compatibility matrix in TensorFlow Addon's readme:\n",
      "https://github.com/tensorflow/addons\n",
      "  warnings.warn(\n"
     ]
    }
   ],
   "source": [
    "import tensorflow as tf\n",
    "from tensorflow.python import keras\n",
    "import tensorflow_graphics as tfg\n",
    "import tensorflow_addons as tfa\n",
    "import tensorflow_probability as tfp\n",
    "from image_interpolation import ImageInterpolator, ImageSectionRNNCell, generate_2d_grid\n"
   ]
  },
  {
   "cell_type": "code",
   "execution_count": 2,
   "metadata": {},
   "outputs": [
    {
     "name": "stderr",
     "output_type": "stream",
     "text": [
      "2022-09-30 18:45:31.655983: I tensorflow/stream_executor/cuda/cuda_gpu_executor.cc:980] successful NUMA node read from SysFS had negative value (-1), but there must be at least one NUMA node, so returning NUMA node zero\n",
      "2022-09-30 18:45:31.677398: I tensorflow/stream_executor/cuda/cuda_gpu_executor.cc:980] successful NUMA node read from SysFS had negative value (-1), but there must be at least one NUMA node, so returning NUMA node zero\n",
      "2022-09-30 18:45:31.677680: I tensorflow/stream_executor/cuda/cuda_gpu_executor.cc:980] successful NUMA node read from SysFS had negative value (-1), but there must be at least one NUMA node, so returning NUMA node zero\n",
      "2022-09-30 18:45:31.678581: I tensorflow/core/platform/cpu_feature_guard.cc:193] This TensorFlow binary is optimized with oneAPI Deep Neural Network Library (oneDNN) to use the following CPU instructions in performance-critical operations:  AVX2 FMA\n",
      "To enable them in other operations, rebuild TensorFlow with the appropriate compiler flags.\n",
      "2022-09-30 18:45:31.680959: I tensorflow/stream_executor/cuda/cuda_gpu_executor.cc:980] successful NUMA node read from SysFS had negative value (-1), but there must be at least one NUMA node, so returning NUMA node zero\n",
      "2022-09-30 18:45:31.681138: I tensorflow/stream_executor/cuda/cuda_gpu_executor.cc:980] successful NUMA node read from SysFS had negative value (-1), but there must be at least one NUMA node, so returning NUMA node zero\n",
      "2022-09-30 18:45:31.681267: I tensorflow/stream_executor/cuda/cuda_gpu_executor.cc:980] successful NUMA node read from SysFS had negative value (-1), but there must be at least one NUMA node, so returning NUMA node zero\n",
      "2022-09-30 18:45:32.038211: I tensorflow/stream_executor/cuda/cuda_gpu_executor.cc:980] successful NUMA node read from SysFS had negative value (-1), but there must be at least one NUMA node, so returning NUMA node zero\n",
      "2022-09-30 18:45:32.038390: I tensorflow/stream_executor/cuda/cuda_gpu_executor.cc:980] successful NUMA node read from SysFS had negative value (-1), but there must be at least one NUMA node, so returning NUMA node zero\n",
      "2022-09-30 18:45:32.038526: I tensorflow/stream_executor/cuda/cuda_gpu_executor.cc:980] successful NUMA node read from SysFS had negative value (-1), but there must be at least one NUMA node, so returning NUMA node zero\n",
      "2022-09-30 18:45:32.038642: I tensorflow/core/common_runtime/gpu/gpu_device.cc:1616] Created device /job:localhost/replica:0/task:0/device:GPU:0 with 2633 MB memory:  -> device: 0, name: NVIDIA GeForce GTX 1650, pci bus id: 0000:01:00.0, compute capability: 7.5\n"
     ]
    },
    {
     "name": "stdout",
     "output_type": "stream",
     "text": [
      "repeated input:  KerasTensor(type_spec=TensorSpec(shape=(None, 20, None, None, 3), dtype=tf.float32, name=None), name='tf.repeat/Repeat/Reshape_1:0', description=\"created by layer 'tf.repeat'\")\n",
      "LSTM state:  [<tf.Tensor 'module_wrapper/rnn/zeros:0' shape=(None, 32) dtype=float32>, <tf.Tensor 'module_wrapper/rnn/zeros_1:0' shape=(None, 32) dtype=float32>]\n",
      "section_state:  Tensor(\"module_wrapper/rnn/Repeat/Reshape_1:0\", shape=(None, 3), dtype=float32)\n",
      "LSTM state:  [<tf.Tensor 'rnn/zeros:0' shape=(None, 32) dtype=float32>, <tf.Tensor 'rnn/zeros_1:0' shape=(None, 32) dtype=float32>]\n",
      "section_state:  Tensor(\"rnn/Repeat/Reshape_1:0\", shape=(None, 3), dtype=float32)\n",
      "Model: \"model\"\n",
      "_________________________________________________________________\n",
      " Layer (type)                Output Shape              Param #   \n",
      "=================================================================\n",
      " input_2 (InputLayer)        [(None, None, None, 3)]   0         \n",
      "                                                                 \n",
      " tf.expand_dims (TFOpLambda)  (None, 1, None, None, 3)  0        \n",
      "                                                                 \n",
      " tf.repeat (TFOpLambda)      (None, 20, None, None, 3  0         \n",
      "                             )                                   \n",
      "                                                                 \n",
      " rnn (RNN)                   (None, 32)                14283     \n",
      "                                                                 \n",
      " dense_3 (Dense)             (None, 10)                330       \n",
      "                                                                 \n",
      "=================================================================\n",
      "Total params: 14,613\n",
      "Trainable params: 14,613\n",
      "Non-trainable params: 0\n",
      "_________________________________________________________________\n"
     ]
    }
   ],
   "source": [
    "input=tf.keras.Input(shape=(None, None,3))\n",
    "num_iterations=20\n",
    "repeated_input = tf.repeat(tf.expand_dims(input,1), repeats=num_iterations, axis=1)\n",
    "print(\"repeated input: \",repeated_input)\n",
    "classifier=keras.Sequential([\n",
    "    tf.keras.layers.RNN(ImageSectionRNNCell(grid_dim=(12, 10), units=32)),\n",
    "    tf.keras.layers.Dense(10, activation='softmax')\n",
    "])\n",
    "output=classifier(repeated_input)\n",
    "model=tf.keras.Model(inputs=input, outputs=output)\n",
    "model.summary()"
   ]
  },
  {
   "cell_type": "markdown",
   "metadata": {},
   "source": [
    "# Test differentiable grid generation"
   ]
  },
  {
   "cell_type": "code",
   "execution_count": 5,
   "metadata": {},
   "outputs": [
    {
     "data": {
      "text/plain": [
       "<KerasTensor: shape=(None, 16, 20, 2) dtype=float32 (created by layer 'tf.stack_2')>"
      ]
     },
     "execution_count": 5,
     "metadata": {},
     "output_type": "execute_result"
    }
   ],
   "source": [
    "starts=tf.keras.Input(shape=(2,))\n",
    "ends=tf.keras.Input(shape=(2,))\n",
    "generate_2d_grid(starts, ends, (16, 20))"
   ]
  },
  {
   "cell_type": "markdown",
   "metadata": {},
   "source": [
    "# Test differentiable batched interpolation"
   ]
  },
  {
   "cell_type": "code",
   "execution_count": 3,
   "metadata": {},
   "outputs": [
    {
     "name": "stdout",
     "output_type": "stream",
     "text": [
      "images: KerasTensor(type_spec=TensorSpec(shape=(None, 28, 28, 3), dtype=tf.float32, name='images'), name='images', description=\"created by layer 'images'\")\n",
      "2\n",
      "KerasTensor(type_spec=TensorSpec(shape=(None, 5, 3), dtype=tf.float32, name=None), name='tf.__operators__.add_4/AddV2:0', description=\"created by layer 'tf.__operators__.add_4'\")\n"
     ]
    }
   ],
   "source": [
    "\n",
    "images= tf.keras.Input(shape=(28, 28,3), name='images')\n",
    "#images=tf.zeros((5,28,28,3))\n",
    "print(\"images:\", images)\n",
    "queries = tf.keras.Input(shape=(5, 2), name='queries')\n",
    "#queries=tf.zeros((5,4,2))\n",
    "mins=tf.keras.Input(shape=(2,), name='mins')\n",
    "mins=tf.zeros((2,))\n",
    "maxs=tf.keras.Input(shape=(2,), name='maxs')\n",
    "maxs=tf.zeros((2,))\n",
    "print(tf.compat.dimension_value(mins.shape[-1]))\n",
    "interpolated = tfp.math.batch_interp_regular_nd_grid(\n",
    "            queries, mins,maxs, images, axis=1)\n",
    "print(interpolated)"
   ]
  },
  {
   "cell_type": "markdown",
   "metadata": {},
   "source": [
    "# Test that linspace is differentiable"
   ]
  },
  {
   "cell_type": "code",
   "execution_count": 8,
   "metadata": {},
   "outputs": [
    {
     "name": "stdout",
     "output_type": "stream",
     "text": [
      "KerasTensor(type_spec=TensorSpec(shape=(None, None), dtype=tf.float32, name=None), name='tf.linspace_10/linspace/Slice:0', description=\"created by layer 'tf.linspace_10'\")\n",
      "KerasTensor(type_spec=TensorSpec(shape=(None,), dtype=tf.float32, name=None), name='tf.math.reduce_sum/Sum:0', description=\"created by layer 'tf.math.reduce_sum'\")\n",
      "WARNING:tensorflow:The following Variables were used in a Lambda layer's call (tf.__operators__.getitem_22), but are not present in its tracked objects:   <tf.Variable 'Variable:0' shape=(2, 2) dtype=float32, numpy=\n",
      "array([[0., 1.],\n",
      "       [1., 2.]], dtype=float32)>. This is a strong indication that the Lambda layer should be rewritten as a subclassed Layer.\n",
      "WARNING:tensorflow:The following Variables were used in a Lambda layer's call (tf.__operators__.getitem_23), but are not present in its tracked objects:   <tf.Variable 'Variable:0' shape=(2, 2) dtype=float32, numpy=\n",
      "array([[0., 1.],\n",
      "       [1., 2.]], dtype=float32)>. This is a strong indication that the Lambda layer should be rewritten as a subclassed Layer.\n",
      "output: tf.Tensor([ 5. 15.], shape=(2,), dtype=float32)\n",
      "tf.Tensor(\n",
      "[[5. 5.]\n",
      " [5. 5.]], shape=(2, 2), dtype=float32)\n"
     ]
    }
   ],
   "source": [
    "inp=tf.keras.Input(shape=(2,))\n",
    "interval=tf.linspace(inp[:,0],inp[:,1],10)\n",
    "print(interval)\n",
    "s=tf.reduce_sum(interval,axis=0)\n",
    "print(s)\n",
    "model=tf.keras.Model(inputs=inp,outputs=s)\n",
    "#model.summary()\n",
    "values=tf.Variable([[0.0,1.0],[1.0,2.0]])\n",
    "with tf.GradientTape() as tape:\n",
    "    tape.watch(values)\n",
    "    out=model(values)\n",
    "    print('output:',out)\n",
    "    print(tape.gradient(out,values))"
   ]
  },
  {
   "cell_type": "markdown",
   "metadata": {},
   "source": [
    "## Experiments with the grid interpolations"
   ]
  },
  {
   "cell_type": "code",
   "execution_count": 4,
   "metadata": {},
   "outputs": [
    {
     "name": "stdout",
     "output_type": "stream",
     "text": [
      "Interpolation:  tf.Tensor(\n",
      "[[[[1.       ]\n",
      "   [1.3333333]\n",
      "   [1.6666667]\n",
      "   [2.       ]]\n",
      "\n",
      "  [[2.5      ]\n",
      "   [2.8333333]\n",
      "   [3.1666667]\n",
      "   [3.5      ]]\n",
      "\n",
      "  [[4.       ]\n",
      "   [4.333333 ]\n",
      "   [4.666667 ]\n",
      "   [5.       ]]]], shape=(1, 3, 4, 1), dtype=float32)\n",
      "Interpolation:  tf.Tensor(\n",
      "[[[[1.       ]\n",
      "   [1.3333333]\n",
      "   [1.6666667]\n",
      "   [2.       ]]\n",
      "\n",
      "  [[2.5      ]\n",
      "   [2.8333333]\n",
      "   [3.1666667]\n",
      "   [3.5      ]]\n",
      "\n",
      "  [[4.       ]\n",
      "   [4.333333 ]\n",
      "   [4.666667 ]\n",
      "   [5.       ]]]], shape=(1, 3, 4, 1), dtype=float32)\n",
      "Sum:  tf.Tensor([[36.]], shape=(1, 1), dtype=float32)\n",
      "Gradient of sum w.r.t. section: tf.Tensor([[72. 24. 48.]], shape=(1, 3), dtype=float32)\n"
     ]
    }
   ],
   "source": [
    "image = tf.constant(\n",
    "    [[1.0, 2.0, 3.0], [4.0, 5.0, 6.0], [7.0, 8.0, 9.0]])\n",
    "image=tf.expand_dims(image,0)\n",
    "image=tf.expand_dims(image,-1)\n",
    "interpolator = ImageInterpolator(grid_dim=(3, 4))\n",
    "print('Interpolation: ', interpolator(image, tf.constant([[0.0, 0.0, 0.5]])))\n",
    "section = tf.Variable([[0.0, 0.0, 0.5]])\n",
    "with tf.GradientTape() as tape:\n",
    "    interpolation = interpolator(image, section)\n",
    "    print('Interpolation: ', interpolation)\n",
    "    # Take sum alon the last two axes\n",
    "    s = tf.reduce_sum(interpolation, axis=1)\n",
    "    s2 = tf.reduce_sum(s, axis=1)\n",
    "    print(\"Sum: \", s2)\n",
    "print(\"Gradient of sum w.r.t. section:\", tape.gradient(s2, section))\n"
   ]
  }
 ],
 "metadata": {
  "kernelspec": {
   "display_name": "Python 3.10.5 64-bit",
   "language": "python",
   "name": "python3"
  },
  "language_info": {
   "codemirror_mode": {
    "name": "ipython",
    "version": 3
   },
   "file_extension": ".py",
   "mimetype": "text/x-python",
   "name": "python",
   "nbconvert_exporter": "python",
   "pygments_lexer": "ipython3",
   "version": "3.10.6"
  },
  "orig_nbformat": 4,
  "vscode": {
   "interpreter": {
    "hash": "e7370f93d1d0cde622a1f8e1c04877d8463912d04d973331ad4851f04de6915a"
   }
  }
 },
 "nbformat": 4,
 "nbformat_minor": 2
}
