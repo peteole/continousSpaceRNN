{
 "cells": [
  {
   "cell_type": "code",
   "execution_count": 1,
   "metadata": {},
   "outputs": [
    {
     "name": "stderr",
     "output_type": "stream",
     "text": [
      "2022-09-30 18:46:35.914295: I tensorflow/core/platform/cpu_feature_guard.cc:193] This TensorFlow binary is optimized with oneAPI Deep Neural Network Library (oneDNN) to use the following CPU instructions in performance-critical operations:  AVX2 FMA\n",
      "To enable them in other operations, rebuild TensorFlow with the appropriate compiler flags.\n",
      "2022-09-30 18:46:36.038894: E tensorflow/stream_executor/cuda/cuda_blas.cc:2981] Unable to register cuBLAS factory: Attempting to register factory for plugin cuBLAS when one has already been registered\n",
      "2022-09-30 18:46:36.616812: W tensorflow/stream_executor/platform/default/dso_loader.cc:64] Could not load dynamic library 'libnvinfer.so.7'; dlerror: libnvinfer.so.7: cannot open shared object file: No such file or directory\n",
      "2022-09-30 18:46:36.616857: W tensorflow/stream_executor/platform/default/dso_loader.cc:64] Could not load dynamic library 'libnvinfer_plugin.so.7'; dlerror: libnvinfer_plugin.so.7: cannot open shared object file: No such file or directory\n",
      "2022-09-30 18:46:36.616870: W tensorflow/compiler/tf2tensorrt/utils/py_utils.cc:38] TF-TRT Warning: Cannot dlopen some TensorRT libraries. If you would like to use Nvidia GPU with TensorRT, please make sure the missing libraries mentioned above are installed properly.\n",
      "/home/olep/.local/lib/python3.10/site-packages/requests/__init__.py:109: RequestsDependencyWarning: urllib3 (1.26.9) or chardet (5.0.0)/charset_normalizer (2.0.12) doesn't match a supported version!\n",
      "  warnings.warn(\n",
      "2022-09-30 18:46:39.897943: I tensorflow/stream_executor/cuda/cuda_gpu_executor.cc:980] successful NUMA node read from SysFS had negative value (-1), but there must be at least one NUMA node, so returning NUMA node zero\n",
      "2022-09-30 18:46:39.919349: I tensorflow/stream_executor/cuda/cuda_gpu_executor.cc:980] successful NUMA node read from SysFS had negative value (-1), but there must be at least one NUMA node, so returning NUMA node zero\n",
      "2022-09-30 18:46:39.919605: I tensorflow/stream_executor/cuda/cuda_gpu_executor.cc:980] successful NUMA node read from SysFS had negative value (-1), but there must be at least one NUMA node, so returning NUMA node zero\n"
     ]
    },
    {
     "data": {
      "text/plain": [
       "[PhysicalDevice(name='/physical_device:GPU:0', device_type='GPU')]"
      ]
     },
     "execution_count": 1,
     "metadata": {},
     "output_type": "execute_result"
    }
   ],
   "source": [
    "import tensorflow as tf\n",
    "import tensorflow_datasets as tfds\n",
    "import image_interpolation\n",
    "tf.config.list_physical_devices('GPU')"
   ]
  },
  {
   "cell_type": "code",
   "execution_count": 2,
   "metadata": {},
   "outputs": [
    {
     "name": "stdout",
     "output_type": "stream",
     "text": [
      "input shape:  (50000, 32, 32, 3)\n",
      "output shape:  (50000, 1)\n"
     ]
    },
    {
     "data": {
      "text/plain": [
       "255"
      ]
     },
     "execution_count": 2,
     "metadata": {},
     "output_type": "execute_result"
    }
   ],
   "source": [
    "train,test=tf.keras.datasets.cifar10.load_data()\n",
    "x_train,y_train=train\n",
    "x_test,y_test=test\n",
    "print(\"input shape: \",x_train.shape)\n",
    "print(\"output shape: \",y_train.shape)\n",
    "x_train[0].max()"
   ]
  },
  {
   "cell_type": "code",
   "execution_count": 3,
   "metadata": {},
   "outputs": [
    {
     "name": "stderr",
     "output_type": "stream",
     "text": [
      "2022-09-30 18:46:45.097623: I tensorflow/core/platform/cpu_feature_guard.cc:193] This TensorFlow binary is optimized with oneAPI Deep Neural Network Library (oneDNN) to use the following CPU instructions in performance-critical operations:  AVX2 FMA\n",
      "To enable them in other operations, rebuild TensorFlow with the appropriate compiler flags.\n",
      "2022-09-30 18:46:45.099235: I tensorflow/stream_executor/cuda/cuda_gpu_executor.cc:980] successful NUMA node read from SysFS had negative value (-1), but there must be at least one NUMA node, so returning NUMA node zero\n",
      "2022-09-30 18:46:45.099474: I tensorflow/stream_executor/cuda/cuda_gpu_executor.cc:980] successful NUMA node read from SysFS had negative value (-1), but there must be at least one NUMA node, so returning NUMA node zero\n",
      "2022-09-30 18:46:45.099629: I tensorflow/stream_executor/cuda/cuda_gpu_executor.cc:980] successful NUMA node read from SysFS had negative value (-1), but there must be at least one NUMA node, so returning NUMA node zero\n",
      "2022-09-30 18:46:45.445732: I tensorflow/stream_executor/cuda/cuda_gpu_executor.cc:980] successful NUMA node read from SysFS had negative value (-1), but there must be at least one NUMA node, so returning NUMA node zero\n",
      "2022-09-30 18:46:45.445900: I tensorflow/stream_executor/cuda/cuda_gpu_executor.cc:980] successful NUMA node read from SysFS had negative value (-1), but there must be at least one NUMA node, so returning NUMA node zero\n",
      "2022-09-30 18:46:45.446035: I tensorflow/stream_executor/cuda/cuda_gpu_executor.cc:980] successful NUMA node read from SysFS had negative value (-1), but there must be at least one NUMA node, so returning NUMA node zero\n",
      "2022-09-30 18:46:45.446150: I tensorflow/core/common_runtime/gpu/gpu_device.cc:1616] Created device /job:localhost/replica:0/task:0/device:GPU:0 with 387 MB memory:  -> device: 0, name: NVIDIA GeForce GTX 1650, pci bus id: 0000:01:00.0, compute capability: 7.5\n"
     ]
    },
    {
     "name": "stdout",
     "output_type": "stream",
     "text": [
      "LSTM state:  [<tf.Tensor 'rnn/zeros:0' shape=(None, 32) dtype=float32>, <tf.Tensor 'rnn/zeros_1:0' shape=(None, 32) dtype=float32>]\n",
      "section_state:  Tensor(\"rnn/Repeat/Reshape_1:0\", shape=(None, 3), dtype=float32)\n",
      "LSTM state:  [<tf.Tensor 'sequential_2/rnn/zeros:0' shape=(None, 32) dtype=float32>, <tf.Tensor 'sequential_2/rnn/zeros_1:0' shape=(None, 32) dtype=float32>]\n",
      "section_state:  Tensor(\"sequential_2/rnn/Repeat/Reshape_1:0\", shape=(None, 3), dtype=float32)\n",
      "Model: \"model\"\n",
      "_________________________________________________________________\n",
      " Layer (type)                Output Shape              Param #   \n",
      "=================================================================\n",
      " input_2 (InputLayer)        [(None, None, None, 3)]   0         \n",
      "                                                                 \n",
      " tf.expand_dims (TFOpLambda)  (None, 1, None, None, 3)  0        \n",
      "                                                                 \n",
      " tf.repeat (TFOpLambda)      (None, 5, None, None, 3)  0         \n",
      "                                                                 \n",
      " sequential_2 (Sequential)   (None, 10)                15381     \n",
      "                                                                 \n",
      "=================================================================\n",
      "Total params: 15,381\n",
      "Trainable params: 15,381\n",
      "Non-trainable params: 0\n",
      "_________________________________________________________________\n"
     ]
    }
   ],
   "source": [
    "input=tf.keras.Input(shape=(None, None,3))\n",
    "num_iterations=5\n",
    "repeated_input = tf.repeat(tf.expand_dims(input,1), repeats=num_iterations, axis=1)\n",
    "classifier=tf.keras.Sequential([\n",
    "    tf.keras.layers.RNN(image_interpolation.ImageSectionRNNCell(grid_dim=(8, 18), units=32)),\n",
    "    tf.keras.layers.Dense(10, activation='softmax')\n",
    "])\n",
    "output=classifier(repeated_input)\n",
    "model=tf.keras.Model(inputs=input, outputs=output)\n",
    "model.summary()\n"
   ]
  },
  {
   "cell_type": "code",
   "execution_count": 4,
   "metadata": {},
   "outputs": [
    {
     "name": "stdout",
     "output_type": "stream",
     "text": [
      "Epoch 1/10\n"
     ]
    },
    {
     "name": "stderr",
     "output_type": "stream",
     "text": [
      "2022-09-30 18:47:01.279300: W tensorflow/core/framework/cpu_allocator_impl.cc:82] Allocation of 153600000 exceeds 10% of free system memory.\n"
     ]
    },
    {
     "name": "stdout",
     "output_type": "stream",
     "text": [
      "LSTM state:  [<tf.Tensor 'model/sequential_2/rnn/zeros:0' shape=(8, 32) dtype=float32>, <tf.Tensor 'model/sequential_2/rnn/zeros_1:0' shape=(8, 32) dtype=float32>]\n",
      "section_state:  Tensor(\"model/sequential_2/rnn/Repeat/Reshape_1:0\", shape=(8, 3), dtype=float32)\n",
      "LSTM state:  [<tf.Tensor 'model/sequential_2/rnn/zeros:0' shape=(8, 32) dtype=float32>, <tf.Tensor 'model/sequential_2/rnn/zeros_1:0' shape=(8, 32) dtype=float32>]\n",
      "section_state:  Tensor(\"model/sequential_2/rnn/Repeat/Reshape_1:0\", shape=(8, 3), dtype=float32)\n"
     ]
    }
   ],
   "source": [
    "with tf.device('/CPU:0'):\n",
    "    model.compile(optimizer='adam',metrics=['accuracy'], loss='sparse_categorical_crossentropy')\n",
    "    model.fit(x_train,y_train,epochs=10, batch_size=8)"
   ]
  }
 ],
 "metadata": {
  "kernelspec": {
   "display_name": "Python 3.10.6 64-bit",
   "language": "python",
   "name": "python3"
  },
  "language_info": {
   "codemirror_mode": {
    "name": "ipython",
    "version": 3
   },
   "file_extension": ".py",
   "mimetype": "text/x-python",
   "name": "python",
   "nbconvert_exporter": "python",
   "pygments_lexer": "ipython3",
   "version": "3.10.6"
  },
  "orig_nbformat": 4,
  "vscode": {
   "interpreter": {
    "hash": "e7370f93d1d0cde622a1f8e1c04877d8463912d04d973331ad4851f04de6915a"
   }
  }
 },
 "nbformat": 4,
 "nbformat_minor": 2
}
